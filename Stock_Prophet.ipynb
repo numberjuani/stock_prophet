{
  "nbformat": 4,
  "nbformat_minor": 0,
  "metadata": {
    "colab": {
      "name": "Stock Prophet.ipynb",
      "provenance": [],
      "collapsed_sections": [],
      "authorship_tag": "ABX9TyMzNLMIDl1K5eCRhWfxXsQW",
      "include_colab_link": true
    },
    "kernelspec": {
      "name": "python3",
      "display_name": "Python 3"
    },
    "language_info": {
      "name": "python"
    }
  },
  "cells": [
    {
      "cell_type": "markdown",
      "metadata": {
        "id": "view-in-github",
        "colab_type": "text"
      },
      "source": [
        "<a href=\"https://colab.research.google.com/github/numberjuani/stock_prophet/blob/main/Stock_Prophet.ipynb\" target=\"_parent\"><img src=\"https://colab.research.google.com/assets/colab-badge.svg\" alt=\"Open In Colab\"/></a>"
      ]
    },
    {
      "cell_type": "code",
      "execution_count": 8,
      "metadata": {
        "id": "wB-NXuhpIK3h"
      },
      "outputs": [],
      "source": [
        "!pip install pystan==2.19.1.1 &> /dev/null\n",
        "!pip3 install prophet &> /dev/null\n",
        "!pip install yfinance &> /dev/null"
      ]
    },
    {
      "cell_type": "code",
      "source": [
        "import yfinance as yf\n",
        "import pandas as pd\n",
        "from prophet import Prophet \n",
        "from prophet.plot import plot_plotly, plot_components_plotly\n",
        "import datetime as dt\n",
        "import numpy as np\n",
        "import warnings\n",
        "warnings.filterwarnings('ignore')\n",
        "%load_ext google.colab.data_table"
      ],
      "metadata": {
        "id": "-eNX-IdAIWMp",
        "colab": {
          "base_uri": "https://localhost:8080/"
        },
        "outputId": "939e49f4-48e7-4318-b0d5-93d4bdfcbd97"
      },
      "execution_count": 9,
      "outputs": [
        {
          "output_type": "stream",
          "name": "stdout",
          "text": [
            "The google.colab.data_table extension is already loaded. To reload it, use:\n",
            "  %reload_ext google.colab.data_table\n"
          ]
        }
      ]
    },
    {
      "cell_type": "code",
      "source": [
        "today = dt.datetime.now().date()\n",
        "start_date = today - dt.timedelta(days=365*10)\n",
        "thirty_year = yf.download('META',start=start_date)\n",
        "thirty_year.reset_index(inplace=True)\n",
        "thirty_year['target'] = thirty_year['Close'].shift(-1) - thirty_year['Open'].shift(-1)\n",
        "thirty_year.rename(columns={'target':'y','Date':'ds'},inplace=True)\n",
        "thirty_year.dropna(inplace=True)\n",
        "str(thirty_year.iloc[0]['ds'].date()),str(thirty_year.iloc[-1]['ds'].date())"
      ],
      "metadata": {
        "colab": {
          "base_uri": "https://localhost:8080/"
        },
        "id": "IcHBZo-nIWih",
        "outputId": "710dce80-f514-42a9-b64c-f33bee8381b8"
      },
      "execution_count": 10,
      "outputs": [
        {
          "output_type": "stream",
          "name": "stdout",
          "text": [
            "\r[*********************100%***********************]  1 of 1 completed\n"
          ]
        },
        {
          "output_type": "execute_result",
          "data": {
            "text/plain": [
              "('2012-07-30', '2022-07-26')"
            ]
          },
          "metadata": {},
          "execution_count": 10
        }
      ]
    },
    {
      "cell_type": "code",
      "source": [
        "compare_over_periods = 21\n",
        "train_data = thirty_year.iloc[:-compare_over_periods]\n",
        "m = Prophet()\n",
        "m.fit(train_data)\n",
        "future = m.make_future_dataframe(periods=2*compare_over_periods,include_history=False)\n",
        "future['day_of_week'] = future['ds'].dt.day_of_week\n",
        "future = future[future['day_of_week'] < 5]\n",
        "future.drop(['day_of_week'],inplace=True,axis = 1)"
      ],
      "metadata": {
        "id": "yvD7_CA4OnXT",
        "colab": {
          "base_uri": "https://localhost:8080/"
        },
        "outputId": "2af4ba5d-826e-4efa-f222-de6756e51c58"
      },
      "execution_count": 11,
      "outputs": [
        {
          "output_type": "stream",
          "name": "stderr",
          "text": [
            "05:00:47 - cmdstanpy - INFO - Chain [1] start processing\n",
            "05:00:47 - cmdstanpy - INFO - Chain [1] done processing\n"
          ]
        }
      ]
    },
    {
      "cell_type": "code",
      "source": [
        "forecast = m.predict(future)\n",
        "forecast = forecast[['ds', 'yhat', 'yhat_lower', 'yhat_upper']]\n",
        "forecast.rename(columns={'ds':'date','yhat':'prediction','yhat_lower':'pred_low','yhat_upper':'pred_high'},inplace=True)\n",
        "thirty_year.rename(columns={'y':'actual'},inplace=True)\n",
        "both = pd.merge(thirty_year,forecast,left_on='ds',right_on='date')\n",
        "both.set_index('ds',inplace=True)\n",
        "compare = both[['actual','prediction']].copy()\n",
        "compare['correct'] = np.sign(both['actual']) == np.sign(both['prediction'])\n",
        "percent_right = np.round(100*compare.correct.mean(),2)\n",
        "f'Correctly predicted direction {percent_right}% of the time'"
      ],
      "metadata": {
        "colab": {
          "base_uri": "https://localhost:8080/",
          "height": 37
        },
        "id": "mXyM76kvzozr",
        "outputId": "2fb84a06-b473-4744-925e-673bd45c64dd"
      },
      "execution_count": 12,
      "outputs": [
        {
          "output_type": "execute_result",
          "data": {
            "text/plain": [
              "'Correctly predicted direction 57.14% of the time'"
            ],
            "application/vnd.google.colaboratory.intrinsic+json": {
              "type": "string"
            }
          },
          "metadata": {},
          "execution_count": 12
        }
      ]
    },
    {
      "cell_type": "code",
      "source": [
        "both.plot(y=['actual','prediction'],figsize=(25,10),kind='bar')"
      ],
      "metadata": {
        "id": "0qdVSC65OKyM",
        "colab": {
          "base_uri": "https://localhost:8080/",
          "height": 718
        },
        "outputId": "6d8c640c-4e1e-4b3b-f8d1-4d543e104d63"
      },
      "execution_count": 13,
      "outputs": [
        {
          "output_type": "execute_result",
          "data": {
            "text/plain": [
              "<matplotlib.axes._subplots.AxesSubplot at 0x7f33b8df6810>"
            ]
          },
          "metadata": {},
          "execution_count": 13
        },
        {
          "output_type": "display_data",
          "data": {
            "text/plain": [
              "<Figure size 1800x720 with 1 Axes>"
            ],
            "image/png": "[encoded data removed]"
          },
          "metadata": {
            "needs_background": "light"
          }
        }
      ]
    },
    {
      "cell_type": "code",
      "source": [
        "future = forecast[forecast.date >= (dt.datetime.now() - dt.timedelta(1))]\n",
        "future"
      ],
      "metadata": {
        "id": "NcsWgaQ_sg6V",
        "colab": {
          "base_uri": "https://localhost:8080/",
          "height": 240
        },
        "outputId": "707564c3-7afe-4588-84de-b1c32b117de8"
      },
      "execution_count": 14,
      "outputs": [
        {
          "output_type": "execute_result",
          "data": {
            "text/plain": [
              "         date  prediction  pred_low  pred_high\n",
              "23 2022-07-28   -0.218955 -3.672085   3.583335\n",
              "24 2022-07-29   -0.114803 -3.596817   3.634788\n",
              "25 2022-08-01   -0.180529 -3.787300   3.298880\n",
              "26 2022-08-02   -0.240861 -3.955996   3.159839\n",
              "27 2022-08-03   -0.353836 -4.099596   3.252660\n",
              "28 2022-08-04   -0.238198 -3.968082   3.383513\n",
              "29 2022-08-05   -0.086145 -3.664833   3.481950"
            ],
            "text/html": [
              "\n",
              "  <div id=\"df-1c005099-b85f-4130-9208-e3bf221db574\">\n",
              "    <div class=\"colab-df-container\">\n",
              "      <div>\n",
              "<style scoped>\n",
              "    .dataframe tbody tr th:only-of-type {\n",
              "        vertical-align: middle;\n",
              "    }\n",
              "\n",
              "    .dataframe tbody tr th {\n",
              "        vertical-align: top;\n",
              "    }\n",
              "\n",
              "    .dataframe thead th {\n",
              "        text-align: right;\n",
              "    }\n",
              "</style>\n",
              "<table border=\"1\" class=\"dataframe\">\n",
              "  <thead>\n",
              "    <tr style=\"text-align: right;\">\n",
              "      <th></th>\n",
              "      <th>date</th>\n",
              "      <th>prediction</th>\n",
              "      <th>pred_low</th>\n",
              "      <th>pred_high</th>\n",
              "    </tr>\n",
              "  </thead>\n",
              "  <tbody>\n",
              "    <tr>\n",
              "      <th>23</th>\n",
              "      <td>2022-07-28</td>\n",
              "      <td>-0.218955</td>\n",
              "      <td>-3.672085</td>\n",
              "      <td>3.583335</td>\n",
              "    </tr>\n",
              "    <tr>\n",
              "      <th>24</th>\n",
              "      <td>2022-07-29</td>\n",
              "      <td>-0.114803</td>\n",
              "      <td>-3.596817</td>\n",
              "      <td>3.634788</td>\n",
              "    </tr>\n",
              "    <tr>\n",
              "      <th>25</th>\n",
              "      <td>2022-08-01</td>\n",
              "      <td>-0.180529</td>\n",
              "      <td>-3.787300</td>\n",
              "      <td>3.298880</td>\n",
              "    </tr>\n",
              "    <tr>\n",
              "      <th>26</th>\n",
              "      <td>2022-08-02</td>\n",
              "      <td>-0.240861</td>\n",
              "      <td>-3.955996</td>\n",
              "      <td>3.159839</td>\n",
              "    </tr>\n",
              "    <tr>\n",
              "      <th>27</th>\n",
              "      <td>2022-08-03</td>\n",
              "      <td>-0.353836</td>\n",
              "      <td>-4.099596</td>\n",
              "      <td>3.252660</td>\n",
              "    </tr>\n",
              "    <tr>\n",
              "      <th>28</th>\n",
              "      <td>2022-08-04</td>\n",
              "      <td>-0.238198</td>\n",
              "      <td>-3.968082</td>\n",
              "      <td>3.383513</td>\n",
              "    </tr>\n",
              "    <tr>\n",
              "      <th>29</th>\n",
              "      <td>2022-08-05</td>\n",
              "      <td>-0.086145</td>\n",
              "      <td>-3.664833</td>\n",
              "      <td>3.481950</td>\n",
              "    </tr>\n",
              "  </tbody>\n",
              "</table>\n",
              "</div>\n",
              "      <button class=\"colab-df-convert\" onclick=\"convertToInteractive('df-1c005099-b85f-4130-9208-e3bf221db574')\"\n",
              "              title=\"Convert this dataframe to an interactive table.\"\n",
              "              style=\"display:none;\">\n",
              "        \n",
              "  <svg xmlns=\"http://www.w3.org/2000/svg\" height=\"24px\"viewBox=\"0 0 24 24\"\n",
              "       width=\"24px\">\n",
              "    <path d=\"M0 0h24v24H0V0z\" fill=\"none\"/>\n",
              "    <path d=\"M18.56 5.44l.94 2.06.94-2.06 2.06-.94-2.06-.94-.94-2.06-.94 2.06-2.06.94zm-11 1L8.5 8.5l.94-2.06 2.06-.94-2.06-.94L8.5 2.5l-.94 2.06-2.06.94zm10 10l.94 2.06.94-2.06 2.06-.94-2.06-.94-.94-2.06-.94 2.06-2.06.94z\"/><path d=\"M17.41 7.96l-1.37-1.37c-.4-.4-.92-.59-1.43-.59-.52 0-1.04.2-1.43.59L10.3 9.45l-7.72 7.72c-.78.78-.78 2.05 0 2.83L4 21.41c.39.39.9.59 1.41.59.51 0 1.02-.2 1.41-.59l7.78-7.78 2.81-2.81c.8-.78.8-2.07 0-2.86zM5.41 20L4 18.59l7.72-7.72 1.47 1.35L5.41 20z\"/>\n",
              "  </svg>\n",
              "      </button>\n",
              "      \n",
              "  <style>\n",
              "    .colab-df-container {\n",
              "      display:flex;\n",
              "      flex-wrap:wrap;\n",
              "      gap: 12px;\n",
              "    }\n",
              "\n",
              "    .colab-df-convert {\n",
              "      background-color: #E8F0FE;\n",
              "      border: none;\n",
              "      border-radius: 50%;\n",
              "      cursor: pointer;\n",
              "      display: none;\n",
              "      fill: #1967D2;\n",
              "      height: 32px;\n",
              "      padding: 0 0 0 0;\n",
              "      width: 32px;\n",
              "    }\n",
              "\n",
              "    .colab-df-convert:hover {\n",
              "      background-color: #E2EBFA;\n",
              "      box-shadow: 0px 1px 2px rgba(60, 64, 67, 0.3), 0px 1px 3px 1px rgba(60, 64, 67, 0.15);\n",
              "      fill: #174EA6;\n",
              "    }\n",
              "\n",
              "    [theme=dark] .colab-df-convert {\n",
              "      background-color: #3B4455;\n",
              "      fill: #D2E3FC;\n",
              "    }\n",
              "\n",
              "    [theme=dark] .colab-df-convert:hover {\n",
              "      background-color: #434B5C;\n",
              "      box-shadow: 0px 1px 3px 1px rgba(0, 0, 0, 0.15);\n",
              "      filter: drop-shadow(0px 1px 2px rgba(0, 0, 0, 0.3));\n",
              "      fill: #FFFFFF;\n",
              "    }\n",
              "  </style>\n",
              "\n",
              "      <script>\n",
              "        const buttonEl =\n",
              "          document.querySelector('#df-1c005099-b85f-4130-9208-e3bf221db574 button.colab-df-convert');\n",
              "        buttonEl.style.display =\n",
              "          google.colab.kernel.accessAllowed ? 'block' : 'none';\n",
              "\n",
              "        async function convertToInteractive(key) {\n",
              "          const element = document.querySelector('#df-1c005099-b85f-4130-9208-e3bf221db574');\n",
              "          const dataTable =\n",
              "            await google.colab.kernel.invokeFunction('convertToInteractive',\n",
              "                                                     [key], {});\n",
              "          if (!dataTable) return;\n",
              "\n",
              "          const docLinkHtml = 'Like what you see? Visit the ' +\n",
              "            '<a target=\"_blank\" href=https://colab.research.google.com/notebooks/data_table.ipynb>data table notebook</a>'\n",
              "            + ' to learn more about interactive tables.';\n",
              "          element.innerHTML = '';\n",
              "          dataTable['output_type'] = 'display_data';\n",
              "          await google.colab.output.renderOutput(dataTable, element);\n",
              "          const docLink = document.createElement('div');\n",
              "          docLink.innerHTML = docLinkHtml;\n",
              "          element.appendChild(docLink);\n",
              "        }\n",
              "      </script>\n",
              "    </div>\n",
              "  </div>\n",
              "  "
            ],
            "application/vnd.google.colaboratory.module+javascript": "\n      import \"https://ssl.gstatic.com/colaboratory/data_table/f872b2c2305463fd/data_table.js\";\n\n      window.createDataTable({\n        data: [[{\n            'v': 23,\n            'f': \"23\",\n        },\n\"2022-07-28 00:00:00\",\n{\n            'v': -0.21895461783700948,\n            'f': \"-0.21895461783700948\",\n        },\n{\n            'v': -3.672085011648402,\n            'f': \"-3.672085011648402\",\n        },\n{\n            'v': 3.5833353791933207,\n            'f': \"3.5833353791933207\",\n        }],\n [{\n            'v': 24,\n            'f': \"24\",\n        },\n\"2022-07-29 00:00:00\",\n{\n            'v': -0.1148029050896962,\n            'f': \"-0.1148029050896962\",\n        },\n{\n            'v': -3.5968173352877857,\n            'f': \"-3.5968173352877857\",\n        },\n{\n            'v': 3.6347880915611426,\n            'f': \"3.6347880915611426\",\n        }],\n [{\n            'v': 25,\n            'f': \"25\",\n        },\n\"2022-08-01 00:00:00\",\n{\n            'v': -0.18052884289285723,\n            'f': \"-0.18052884289285723\",\n        },\n{\n            'v': -3.78730043294656,\n            'f': \"-3.78730043294656\",\n        },\n{\n            'v': 3.2988803066868346,\n            'f': \"3.2988803066868346\",\n        }],\n [{\n            'v': 26,\n            'f': \"26\",\n        },\n\"2022-08-02 00:00:00\",\n{\n            'v': -0.24086148773609428,\n            'f': \"-0.24086148773609428\",\n        },\n{\n            'v': -3.9559955894781,\n            'f': \"-3.9559955894781\",\n        },\n{\n            'v': 3.1598385660012274,\n            'f': \"3.1598385660012274\",\n        }],\n [{\n            'v': 27,\n            'f': \"27\",\n        },\n\"2022-08-03 00:00:00\",\n{\n            'v': -0.35383611673628257,\n            'f': \"-0.35383611673628257\",\n        },\n{\n            'v': -4.099596127721354,\n            'f': \"-4.099596127721354\",\n        },\n{\n            'v': 3.2526599626217454,\n            'f': \"3.2526599626217454\",\n        }],\n [{\n            'v': 28,\n            'f': \"28\",\n        },\n\"2022-08-04 00:00:00\",\n{\n            'v': -0.23819846526681904,\n            'f': \"-0.23819846526681904\",\n        },\n{\n            'v': -3.968082453974961,\n            'f': \"-3.968082453974961\",\n        },\n{\n            'v': 3.3835134279462644,\n            'f': \"3.3835134279462644\",\n        }],\n [{\n            'v': 29,\n            'f': \"29\",\n        },\n\"2022-08-05 00:00:00\",\n{\n            'v': -0.08614549408316996,\n            'f': \"-0.08614549408316996\",\n        },\n{\n            'v': -3.6648327383481516,\n            'f': \"-3.6648327383481516\",\n        },\n{\n            'v': 3.4819502831282088,\n            'f': \"3.4819502831282088\",\n        }]],\n        columns: [[\"number\", \"index\"], [\"string\", \"date\"], [\"number\", \"prediction\"], [\"number\", \"pred_low\"], [\"number\", \"pred_high\"]],\n        columnOptions: [{\"width\": \"1px\", \"className\": \"index_column\"}],\n        rowsPerPage: 25,\n        helpUrl: \"https://colab.research.google.com/notebooks/data_table.ipynb\",\n        suppressOutputScrolling: true,\n        minimumWidth: undefined,\n      });\n    "
          },
          "metadata": {},
          "execution_count": 14
        }
      ]
    }
  ]
}